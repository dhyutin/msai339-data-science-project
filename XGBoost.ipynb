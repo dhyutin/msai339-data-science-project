{
 "cells": [
  {
   "cell_type": "markdown",
   "metadata": {},
   "source": [
    "### What is XGBoost?\n",
    "XGBoost (eXtreme Gradient Boosting) is an optimized version of Gradient Boosting designed for speed and accuracy. It builds decision trees sequentially and improves computational efficiency and predictive performance.\n",
    "\n",
    "### Key Features\n",
    "- Regularization: L1 (Lasso) and L2 (Ridge) help control overfitting.\n",
    "\n",
    "- Tree Pruning: Stops tree growth early to avoid overfitting.\n",
    "\n",
    "- Missing Value Handling: Automatically handles missing data.\n",
    "\n",
    "- Parallel Computing: Utilizes multiple CPU cores for faster training.\n",
    "\n",
    "- Sparsity-Aware: Efficiently processes sparse data.\n",
    "\n",
    "- Custom Loss Functions: Supports both built-in and user-defined loss functions.\n",
    "\n",
    "- Cross-Validation: Built-in support to enhance model reliability.\n",
    "\n",
    "### Advantages\n",
    "- High Performance: Faster training and prediction.\n",
    "\n",
    "- Flexibility: Handles regression, classification, ranking, and more.\n",
    "\n",
    "- Robustness: Handles missing values and outliers effectively.\n",
    "\n",
    "- Customizability: Allows hyperparameter tuning.\n",
    "\n",
    "- Feature Importance: Provides insights into important features.\n",
    "\n",
    "### Key Parameters\n",
    "- n_estimators: Number of boosting rounds (trees).\n",
    "\n",
    "- learning_rate: Shrinks tree contributions (smaller values improve generalization).\n",
    "\n",
    "- max_depth: Maximum tree depth to control complexity.\n",
    "\n",
    "- subsample: Fraction of training data used per tree.\n",
    "\n",
    "- colsample_bytree: Fraction of features used per tree.\n",
    "\n",
    "- gamma: Minimum loss reduction required for splitting.\n",
    "\n",
    "- lambda and alpha: Regularization parameters to prevent overfitting.\n",
    "\n",
    "- objective: Specifies the task (e.g., regression, classification).\n",
    "\n",
    "- early_stopping_rounds: Stops training if no improvement in validation performance.\n"
   ]
  },
  {
   "cell_type": "code",
   "execution_count": 1,
   "metadata": {},
   "outputs": [],
   "source": [
    "import pandas as pd\n",
    "import numpy as np\n",
    "from xgboost import XGBRegressor\n",
    "from sklearn.model_selection import train_test_split\n",
    "from sklearn.metrics import mean_squared_error"
   ]
  },
  {
   "cell_type": "code",
   "execution_count": 2,
   "metadata": {},
   "outputs": [
    {
     "data": {
      "text/html": [
       "<div>\n",
       "<style scoped>\n",
       "    .dataframe tbody tr th:only-of-type {\n",
       "        vertical-align: middle;\n",
       "    }\n",
       "\n",
       "    .dataframe tbody tr th {\n",
       "        vertical-align: top;\n",
       "    }\n",
       "\n",
       "    .dataframe thead th {\n",
       "        text-align: right;\n",
       "    }\n",
       "</style>\n",
       "<table border=\"1\" class=\"dataframe\">\n",
       "  <thead>\n",
       "    <tr style=\"text-align: right;\">\n",
       "      <th></th>\n",
       "      <th>year</th>\n",
       "      <th>hwtsupp</th>\n",
       "      <th>region</th>\n",
       "      <th>statefip</th>\n",
       "      <th>metro</th>\n",
       "      <th>metarea</th>\n",
       "      <th>pernum</th>\n",
       "      <th>relate</th>\n",
       "      <th>age</th>\n",
       "      <th>sex</th>\n",
       "      <th>...</th>\n",
       "      <th>qinclong</th>\n",
       "      <th>hisp</th>\n",
       "      <th>annhrs</th>\n",
       "      <th>incwageman</th>\n",
       "      <th>hrwage</th>\n",
       "      <th>perconexp</th>\n",
       "      <th>hdwfcoh</th>\n",
       "      <th>industry</th>\n",
       "      <th>occupation</th>\n",
       "      <th>education</th>\n",
       "    </tr>\n",
       "  </thead>\n",
       "  <tbody>\n",
       "    <tr>\n",
       "      <th>0</th>\n",
       "      <td>1990</td>\n",
       "      <td>1052.650024</td>\n",
       "      <td>0</td>\n",
       "      <td>36</td>\n",
       "      <td>2.0</td>\n",
       "      <td>5607.0</td>\n",
       "      <td>1</td>\n",
       "      <td>101</td>\n",
       "      <td>58</td>\n",
       "      <td>1</td>\n",
       "      <td>...</td>\n",
       "      <td>0.0</td>\n",
       "      <td>1</td>\n",
       "      <td>1820</td>\n",
       "      <td>14200.0</td>\n",
       "      <td>7.802198</td>\n",
       "      <td>64.639999</td>\n",
       "      <td>1</td>\n",
       "      <td>10</td>\n",
       "      <td>17</td>\n",
       "      <td>5</td>\n",
       "    </tr>\n",
       "    <tr>\n",
       "      <th>1</th>\n",
       "      <td>2009</td>\n",
       "      <td>971.200012</td>\n",
       "      <td>2</td>\n",
       "      <td>5</td>\n",
       "      <td>2.0</td>\n",
       "      <td>NaN</td>\n",
       "      <td>4</td>\n",
       "      <td>1260</td>\n",
       "      <td>28</td>\n",
       "      <td>1</td>\n",
       "      <td>...</td>\n",
       "      <td>0.0</td>\n",
       "      <td>0</td>\n",
       "      <td>2080</td>\n",
       "      <td>17680.0</td>\n",
       "      <td>8.500000</td>\n",
       "      <td>100.063004</td>\n",
       "      <td>0</td>\n",
       "      <td>11</td>\n",
       "      <td>17</td>\n",
       "      <td>5</td>\n",
       "    </tr>\n",
       "    <tr>\n",
       "      <th>2</th>\n",
       "      <td>1990</td>\n",
       "      <td>1622.280029</td>\n",
       "      <td>0</td>\n",
       "      <td>36</td>\n",
       "      <td>3.0</td>\n",
       "      <td>5607.0</td>\n",
       "      <td>1</td>\n",
       "      <td>101</td>\n",
       "      <td>37</td>\n",
       "      <td>1</td>\n",
       "      <td>...</td>\n",
       "      <td>0.0</td>\n",
       "      <td>0</td>\n",
       "      <td>2080</td>\n",
       "      <td>28000.0</td>\n",
       "      <td>13.461538</td>\n",
       "      <td>64.639999</td>\n",
       "      <td>1</td>\n",
       "      <td>2</td>\n",
       "      <td>4</td>\n",
       "      <td>5</td>\n",
       "    </tr>\n",
       "    <tr>\n",
       "      <th>3</th>\n",
       "      <td>1990</td>\n",
       "      <td>2689.909912</td>\n",
       "      <td>3</td>\n",
       "      <td>6</td>\n",
       "      <td>3.0</td>\n",
       "      <td>7400.0</td>\n",
       "      <td>1</td>\n",
       "      <td>101</td>\n",
       "      <td>34</td>\n",
       "      <td>1</td>\n",
       "      <td>...</td>\n",
       "      <td>0.0</td>\n",
       "      <td>0</td>\n",
       "      <td>2115</td>\n",
       "      <td>27500.0</td>\n",
       "      <td>13.002364</td>\n",
       "      <td>64.639999</td>\n",
       "      <td>1</td>\n",
       "      <td>14</td>\n",
       "      <td>3</td>\n",
       "      <td>3</td>\n",
       "    </tr>\n",
       "    <tr>\n",
       "      <th>4</th>\n",
       "      <td>1981</td>\n",
       "      <td>1911.900024</td>\n",
       "      <td>2</td>\n",
       "      <td>51</td>\n",
       "      <td>3.0</td>\n",
       "      <td>8840.0</td>\n",
       "      <td>1</td>\n",
       "      <td>101</td>\n",
       "      <td>38</td>\n",
       "      <td>1</td>\n",
       "      <td>...</td>\n",
       "      <td>NaN</td>\n",
       "      <td>0</td>\n",
       "      <td>2080</td>\n",
       "      <td>17000.0</td>\n",
       "      <td>8.173077</td>\n",
       "      <td>43.977001</td>\n",
       "      <td>1</td>\n",
       "      <td>14</td>\n",
       "      <td>0</td>\n",
       "      <td>5</td>\n",
       "    </tr>\n",
       "  </tbody>\n",
       "</table>\n",
       "<p>5 rows × 32 columns</p>\n",
       "</div>"
      ],
      "text/plain": [
       "   year      hwtsupp  region  statefip  metro  metarea  pernum  relate  age  \\\n",
       "0  1990  1052.650024       0        36    2.0   5607.0       1     101   58   \n",
       "1  2009   971.200012       2         5    2.0      NaN       4    1260   28   \n",
       "2  1990  1622.280029       0        36    3.0   5607.0       1     101   37   \n",
       "3  1990  2689.909912       3         6    3.0   7400.0       1     101   34   \n",
       "4  1981  1911.900024       2        51    3.0   8840.0       1     101   38   \n",
       "\n",
       "   sex  ...  qinclong  hisp  annhrs  incwageman     hrwage   perconexp  \\\n",
       "0    1  ...       0.0     1    1820     14200.0   7.802198   64.639999   \n",
       "1    1  ...       0.0     0    2080     17680.0   8.500000  100.063004   \n",
       "2    1  ...       0.0     0    2080     28000.0  13.461538   64.639999   \n",
       "3    1  ...       0.0     0    2115     27500.0  13.002364   64.639999   \n",
       "4    1  ...       NaN     0    2080     17000.0   8.173077   43.977001   \n",
       "\n",
       "   hdwfcoh  industry  occupation  education  \n",
       "0        1        10          17          5  \n",
       "1        0        11          17          5  \n",
       "2        1         2           4          5  \n",
       "3        1        14           3          3  \n",
       "4        1        14           0          5  \n",
       "\n",
       "[5 rows x 32 columns]"
      ]
     },
     "execution_count": 2,
     "metadata": {},
     "output_type": "execute_result"
    }
   ],
   "source": [
    "processed_data = pd.read_csv('/Users/shruti.kalaskar/Documents/Northwestern/Fall 2024/Data Science 339/Project/processed_dataset.csv')\n",
    "processed_data.head()"
   ]
  },
  {
   "cell_type": "markdown",
   "metadata": {},
   "source": [
    "### Dataset Overview\n",
    "The dataset contains demographic, economic, and employment-related variables, with the target variable being incwage (wage and salary income). A key variable of interest is sex, which is used to group predictions and evaluate potential biases.\n",
    "\n",
    "- Target Variable: incwage (Wage and salary income)\n",
    "- Key Sensitive Variable: sex (1 = Male, 2 = Female)"
   ]
  },
  {
   "cell_type": "code",
   "execution_count": 3,
   "metadata": {},
   "outputs": [
    {
     "name": "stdout",
     "output_type": "stream",
     "text": [
      "Index(['year', 'hwtsupp', 'region', 'statefip', 'metro', 'metarea', 'pernum',\n",
      "       'relate', 'age', 'sex', 'race', 'marst', 'nativity', 'educ99',\n",
      "       'classwkr', 'wkswork1', 'hrswork', 'uhrswork', 'union', 'incwage',\n",
      "       'inclongj', 'srcearn', 'qinclong', 'hisp', 'annhrs', 'incwageman',\n",
      "       'hrwage', 'perconexp', 'hdwfcoh', 'industry', 'occupation',\n",
      "       'education'],\n",
      "      dtype='object')\n"
     ]
    }
   ],
   "source": [
    "print(processed_data.columns)"
   ]
  },
  {
   "cell_type": "markdown",
   "metadata": {},
   "source": [
    "### Model Overview\n",
    "Implemented an XGBoost Regressor to predict incwage using the following parameters:\n",
    "\n",
    "- n_estimators: 100\n",
    "- learning_rate: 0.1\n",
    "- max_depth: 3\n",
    "- random_state: 42\n",
    "\n",
    "XGBoost was chosen for its high performance, regularization capabilities, and ability to handle missing values.\n",
    "\n"
   ]
  },
  {
   "cell_type": "markdown",
   "metadata": {},
   "source": [
    "### Methodology\n",
    "1. Data Preparation:\n",
    "\n",
    "- Dropped the target variable (incwage) from features.\n",
    "\n",
    "- Retained sex as a feature for grouping predictions.\n",
    "\n",
    "- Split the dataset into training (80%) and testing (20%) sets.\n",
    "\n",
    "2. Training the Model:\n",
    "\n",
    "- Used the training data to fit the XGBoost Regressor.\n",
    "\n",
    "3. Prediction and Grouping:\n",
    "\n",
    "- Predicted incwage for the test set.\n",
    "\n",
    "- Grouped predictions by gender to calculate average salary predictions for males and females.\n",
    "\n",
    "4. Alternated Predictions:\n",
    "\n",
    "- Created a copy of the test data and alternated the sex column (1 ↔ 2).\n",
    "\n",
    "- Predicted incwage using the alternated dataset to evaluate potential biases.\n",
    "\n",
    "- Calculated alternated average salary predictions for males and females."
   ]
  },
  {
   "cell_type": "code",
   "execution_count": 4,
   "metadata": {},
   "outputs": [
    {
     "name": "stdout",
     "output_type": "stream",
     "text": [
      "Average Prediction for Males: 47450.41\n",
      "Average Prediction for Females: 31384.09\n"
     ]
    }
   ],
   "source": [
    "# Prepare features and target for processed_data\n",
    "X_processed = processed_data.drop(columns=['incwage', 'sex'])  # Features\n",
    "y_processed = processed_data['incwage']  # Target: Wage income\n",
    "X_processed['sex'] = processed_data['sex']  # Retain 'sex' as a feature for grouping\n",
    "\n",
    "# Train-test split\n",
    "X_train_p, X_test_p, y_train_p, y_test_p = train_test_split(X_processed, y_processed, test_size=0.2, random_state=42)\n",
    "\n",
    "# Train the XGBoost Regressor\n",
    "xgb_model_processed = XGBRegressor(n_estimators=100, learning_rate=0.1, max_depth=3, random_state=42)\n",
    "xgb_model_processed.fit(X_train_p, y_train_p)\n",
    "\n",
    "# Predict on test data\n",
    "y_pred_processed = xgb_model_processed.predict(X_test_p)\n",
    "\n",
    "# Add gender back to X_test for grouping predictions\n",
    "X_test_p['gender'] = X_test_p['sex']  # Ensure 'sex' exists in X_test\n",
    "X_test_p['predictions'] = y_pred_processed\n",
    "\n",
    "# Separate predictions for males and females\n",
    "male_predictions_processed = X_test_p[X_test_p['gender'] == 1]['predictions']\n",
    "female_predictions_processed = X_test_p[X_test_p['gender'] == 2]['predictions']\n",
    "\n",
    "# Print aggregated results\n",
    "average_male_prediction = male_predictions_processed.mean()\n",
    "average_female_prediction = female_predictions_processed.mean()\n",
    "\n",
    "# Print results\n",
    "print(f\"Average Prediction for Males: {average_male_prediction:.2f}\")\n",
    "print(f\"Average Prediction for Females: {average_female_prediction:.2f}\")\n"
   ]
  },
  {
   "cell_type": "code",
   "execution_count": 5,
   "metadata": {},
   "outputs": [
    {
     "name": "stdout",
     "output_type": "stream",
     "text": [
      "Alternated Average Prediction for Males: 31384.09\n",
      "Alternated Average Prediction for Females: 47450.41\n"
     ]
    }
   ],
   "source": [
    "# Copy the test dataset for alternation\n",
    "X_test_alternated = X_test_p.copy()\n",
    "\n",
    "# Alternate the `sex` column\n",
    "X_test_alternated['sex'] = np.where(X_test_alternated['sex'] == 1, 2, 1)\n",
    "\n",
    "# Ensure only training features are included in alternated dataset\n",
    "feature_columns = [col for col in X_train_p.columns]  # Use same features as training\n",
    "X_test_alternated = X_test_alternated[feature_columns]\n",
    "\n",
    "# Predict using the alternated dataset\n",
    "alternated_predictions = xgb_model_processed.predict(X_test_alternated)\n",
    "\n",
    "# Add alternated predictions back to the original X_test\n",
    "X_test_p['alternated_predictions'] = alternated_predictions\n",
    "\n",
    "# Separate predictions for alternated males and females\n",
    "alternated_male_predictions = X_test_p[X_test_p['sex'] == 2]['alternated_predictions']\n",
    "alternated_female_predictions = X_test_p[X_test_p['sex'] == 1]['alternated_predictions']\n",
    "\n",
    "# Calculate averages\n",
    "alternated_male_avg = alternated_male_predictions.mean()\n",
    "alternated_female_avg = alternated_female_predictions.mean()\n",
    "\n",
    "# Print results\n",
    "print(f\"Alternated Average Prediction for Males: {alternated_male_avg:.2f}\")\n",
    "print(f\"Alternated Average Prediction for Females: {alternated_female_avg:.2f}\")\n"
   ]
  },
  {
   "cell_type": "code",
   "execution_count": 6,
   "metadata": {},
   "outputs": [
    {
     "name": "stdout",
     "output_type": "stream",
     "text": [
      "Average Salary Prediction for Males: 47450.41\n",
      "Average Salary Prediction for Females: 31384.09\n",
      "Alternated Average Prediction for Males: 31384.09\n",
      "Alternated Average Prediction for Females: 47450.41\n"
     ]
    }
   ],
   "source": [
    "# Print results\n",
    "\n",
    "print(f\"Average Salary Prediction for Males: {average_male_prediction.mean():.2f}\")\n",
    "print(f\"Average Salary Prediction for Females: {average_female_prediction.mean():.2f}\")\n",
    "\n",
    "print(f\"Alternated Average Prediction for Males: {alternated_male_avg:.2f}\")\n",
    "print(f\"Alternated Average Prediction for Females: {alternated_female_avg:.2f}\")"
   ]
  },
  {
   "cell_type": "markdown",
   "metadata": {},
   "source": [
    "### Results\n",
    "\n",
    "Original Predictions:\n",
    "\n",
    "- Average Prediction for Males: $47,450.41\n",
    "\n",
    "- Average Prediction for Females: $31,384.09\n",
    "\n",
    "- This shows a significant gap in predicted income between genders.\n",
    "\n",
    "Alternated Predictions:\n",
    "\n",
    "- Alternated Average Prediction for Males: $31,384.09\n",
    "\n",
    "- Alternated Average Prediction for Females: $47,450.41\n",
    "\n",
    "When the sex attribute is alternated, the average predictions for males and females are flipped, suggesting that sex has a strong influence on the model's predictions."
   ]
  },
  {
   "cell_type": "code",
   "execution_count": 7,
   "metadata": {},
   "outputs": [
    {
     "name": "stdout",
     "output_type": "stream",
     "text": [
      "Statistical Parity Difference (SPD): 16066.32\n"
     ]
    }
   ],
   "source": [
    "# Calculate Statistical Parity Difference\n",
    "statistical_parity_difference = average_male_prediction - average_female_prediction\n",
    "\n",
    "# Print SPD\n",
    "print(f\"Statistical Parity Difference (SPD): {statistical_parity_difference:.2f}\")\n"
   ]
  },
  {
   "cell_type": "markdown",
   "metadata": {},
   "source": [
    "### Bias Analysis\n",
    "The observed results indicate potential bias in the model:\n",
    "\n",
    "Statistical Parity Difference (SPD):\n",
    "\n",
    "- SPD=Average Male Prediction−Average Female Prediction=47,450.41−31,384.09=16,066.32\n",
    "\n",
    "- This large SPD shows a disparity in predictions based on gender.\n",
    "\n",
    "Alternated Predictions: The exact reversal of predictions after alternation further suggests that sex is playing a dominant role in the model’s decision-making."
   ]
  },
  {
   "cell_type": "code",
   "execution_count": 8,
   "metadata": {},
   "outputs": [
    {
     "name": "stdout",
     "output_type": "stream",
     "text": [
      "Feature importance of 'sex': 0.00000\n"
     ]
    }
   ],
   "source": [
    "print(f\"Feature importance of 'sex': {xgb_model_processed.feature_importances_[X_processed.columns.get_loc('sex')]:.5f}\")"
   ]
  },
  {
   "cell_type": "code",
   "execution_count": 9,
   "metadata": {},
   "outputs": [
    {
     "name": "stdout",
     "output_type": "stream",
     "text": [
      "incwageman    1.000000\n",
      "inclongj      0.992219\n",
      "annhrs        0.336567\n",
      "educ99        0.321438\n",
      "uhrswork      0.302809\n",
      "year          0.280993\n",
      "perconexp     0.280575\n",
      "hrswork       0.243749\n",
      "wkswork1      0.190907\n",
      "age           0.122137\n",
      "metro         0.093047\n",
      "hdwfcoh       0.091270\n",
      "hrwage        0.043150\n",
      "industry      0.023794\n",
      "hwtsupp       0.020368\n",
      "metarea       0.019377\n",
      "classwkr      0.008278\n",
      "srcearn      -0.008012\n",
      "union        -0.013089\n",
      "region       -0.018606\n",
      "statefip     -0.028524\n",
      "nativity     -0.050597\n",
      "relate       -0.066972\n",
      "pernum       -0.074136\n",
      "race         -0.078846\n",
      "hisp         -0.083936\n",
      "marst        -0.087061\n",
      "sex          -0.179800\n",
      "occupation   -0.259113\n",
      "education    -0.271150\n",
      "qinclong           NaN\n",
      "dtype: float64\n"
     ]
    },
    {
     "name": "stderr",
     "output_type": "stream",
     "text": [
      "/Users/shruti.kalaskar/Library/Python/3.9/lib/python/site-packages/numpy/lib/_function_base_impl.py:2922: RuntimeWarning: invalid value encountered in divide\n",
      "  c /= stddev[:, None]\n",
      "/Users/shruti.kalaskar/Library/Python/3.9/lib/python/site-packages/numpy/lib/_function_base_impl.py:2923: RuntimeWarning: invalid value encountered in divide\n",
      "  c /= stddev[None, :]\n"
     ]
    }
   ],
   "source": [
    "correlation = X_processed.corrwith(y_processed)  # Correlation of each feature with target\n",
    "print(correlation.sort_values(ascending=False))"
   ]
  },
  {
   "cell_type": "code",
   "execution_count": 10,
   "metadata": {},
   "outputs": [
    {
     "name": "stdout",
     "output_type": "stream",
     "text": [
      "Correlation between 'sex' and 'incwageman': -0.17980\n"
     ]
    }
   ],
   "source": [
    "corr_value = X_processed['sex'].corr(y_processed)\n",
    "print(f\"Correlation between 'sex' and 'incwageman': {corr_value:.5f}\")"
   ]
  },
  {
   "cell_type": "code",
   "execution_count": 11,
   "metadata": {},
   "outputs": [
    {
     "data": {
      "image/png": "[encoded data removed]",
      "text/plain": [
       "<Figure size 1000x600 with 1 Axes>"
      ]
     },
     "metadata": {},
     "output_type": "display_data"
    }
   ],
   "source": [
    "import matplotlib.pyplot as plt\n",
    "\n",
    "# Ensure `processed_data` is loaded properly. Re-define if necessary.\n",
    "# processed_data must contain 'sex' and 'incwage' columns.\n",
    "male_income = processed_data[processed_data['sex'] == 1]['incwage']\n",
    "female_income = processed_data[processed_data['sex'] == 2]['incwage']\n",
    "\n",
    "# Plotting Income Distribution by Gender\n",
    "plt.figure(figsize=(10, 6))\n",
    "plt.hist(male_income, bins=50, alpha=0.6, label='Male', density=True)\n",
    "plt.hist(female_income, bins=50, alpha=0.6, label='Female', density=True)\n",
    "plt.title('Income Distribution by Gender')\n",
    "plt.xlabel('Income')\n",
    "plt.ylabel('Density')\n",
    "plt.legend(loc='upper right')\n",
    "plt.grid(axis='y', alpha=0.75)\n",
    "plt.show()\n"
   ]
  },
  {
   "cell_type": "markdown",
   "metadata": {},
   "source": [
    "### Observations:\n",
    "\n",
    "- Both distributions are highly skewed to the right, with most individuals earning lower incomes and fewer individuals earning very high incomes.\n",
    "\n",
    "- The density of females at the lower-income range is slightly higher than that of males.\n",
    "\n",
    "- The overlap between the two distributions suggests that both genders share a similar income range, but the male density is slightly higher at the higher-income ranges."
   ]
  },
  {
   "cell_type": "code",
   "execution_count": 12,
   "metadata": {},
   "outputs": [
    {
     "data": {
      "text/plain": [
       "<module 'matplotlib.pyplot' from '/Users/shruti.kalaskar/Library/Python/3.9/lib/python/site-packages/matplotlib/pyplot.py'>"
      ]
     },
     "execution_count": 12,
     "metadata": {},
     "output_type": "execute_result"
    },
    {
     "data": {
      "image/png": "[encoded data removed]",
      "text/plain": [
       "<Figure size 1200x600 with 1 Axes>"
      ]
     },
     "metadata": {},
     "output_type": "display_data"
    }
   ],
   "source": [
    "import seaborn as sns\n",
    "import matplotlib.pyplot as plt\n",
    "import numpy as np\n",
    "\n",
    "# Apply log transformation to the income data to handle skewness\n",
    "processed_data['log_income'] = np.log1p(processed_data['incwage'])\n",
    "\n",
    "# Separate income data by gender\n",
    "male_income = processed_data[processed_data['sex'] == 1]['log_income']\n",
    "female_income = processed_data[processed_data['sex'] == 2]['log_income']\n",
    "\n",
    "# Plot income distribution with KDE\n",
    "plt.figure(figsize=(12, 6))\n",
    "sns.kdeplot(male_income, label='Male', fill=True, alpha=0.5, color='blue')\n",
    "sns.kdeplot(female_income, label='Female', fill=True, alpha=0.5, color='orange')\n",
    "plt.title('Log-Transformed Income Distribution by Gender')\n",
    "plt.xlabel('Log of Income')\n",
    "plt.ylabel('Density')\n",
    "plt.axvline(male_income.mean(), color='blue', linestyle='--', label=f'Male Mean: {male_income.mean():.2f}')\n",
    "plt.axvline(female_income.mean(), color='orange', linestyle='--', label=f'Female Mean: {female_income.mean():.2f}')\n",
    "plt.legend()\n",
    "plt.grid(True, alpha=0.3)\n",
    "plt\n"
   ]
  },
  {
   "cell_type": "markdown",
   "metadata": {},
   "source": [
    "### Observations:\n",
    "\n",
    "- After log transformation, the income distributions become more symmetric and easier to compare.\n",
    "\n",
    "- Males have a slightly higher mean log income (10.44) compared to females (9.97), indicating a higher average income for males.\n",
    "\n",
    "- The distributions show significant overlap but highlight that males have a higher density in the upper log-income range.\n",
    "\n",
    "- The difference in mean log income highlights a gender gap in average earnings.\n",
    "\n",
    "- Despite the overlap, the male distribution is slightly shifted towards higher incomes, which may suggest systemic factors influencing earnings by gender.\n"
   ]
  },
  {
   "cell_type": "code",
   "execution_count": null,
   "metadata": {},
   "outputs": [],
   "source": []
  }
 ],
 "metadata": {
  "kernelspec": {
   "display_name": "Python 3",
   "language": "python",
   "name": "python3"
  },
  "language_info": {
   "codemirror_mode": {
    "name": "ipython",
    "version": 3
   },
   "file_extension": ".py",
   "mimetype": "text/x-python",
   "name": "python",
   "nbconvert_exporter": "python",
   "pygments_lexer": "ipython3",
   "version": "3.9.6"
  }
 },
 "nbformat": 4,
 "nbformat_minor": 2
}
